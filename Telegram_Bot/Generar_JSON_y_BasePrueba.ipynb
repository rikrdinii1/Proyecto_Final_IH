{
 "cells": [
  {
   "cell_type": "markdown",
   "metadata": {},
   "source": [
    "# Creacion de un Archivo JSON para el manejo del cuestionario de Beck"
   ]
  },
  {
   "cell_type": "code",
   "execution_count": 107,
   "metadata": {
    "ExecuteTime": {
     "end_time": "2021-03-18T02:56:35.840554Z",
     "start_time": "2021-03-18T02:56:35.824555Z"
    }
   },
   "outputs": [],
   "source": [
    "import json"
   ]
  },
  {
   "cell_type": "markdown",
   "metadata": {},
   "source": [
    "Tenemos un archivo JSON por cada uno de los temas que se abordan en el cuestionario de Beck, y en cada uno de ellos se encuentran las respuestas que se plantean para cada tema y su valor.\n",
    "\n",
    "Lo que buscamos es tenerlo todo en un solo archivo, por lo que primero generamos una lista con los temas, posteriormente provedemos a leer cada uno de los JSON correspondientes al tema y se van agregando a un nuevo JSON que agrupará cada uno de los temas.\n",
    "\n",
    "Por ultimo, generamos un solo archivo JSON en la carpeta principal, que podremos utilizar posteriormente para el Bot."
   ]
  },
  {
   "cell_type": "code",
   "execution_count": 2,
   "metadata": {
    "ExecuteTime": {
     "end_time": "2021-03-03T07:01:20.553247Z",
     "start_time": "2021-03-03T07:01:20.521240Z"
    }
   },
   "outputs": [],
   "source": [
    "cuestionario = {'Temas':[]}\n",
    "\n",
    "temas = ['Tristeza','Pesimismo','Fracaso','Perdida de Placer','Sentimientos de Culpa','Sentimientos de Castigo','Disconformidad con uno mismo','Autocritica','Pensamientos o Deseos Suicidas','Llanto','Agitación','Perdida de Interés','Indecisión','Desvalorización','Perdida de Energía','Cambios en los Hábitos de Sueño','Irritabilidad','Cambios en el Apetito','Dificultad de Concentración','Cansancio o Fatiga','Perdida de Interés en el Sexo']\n",
    "ruta = './JSON/'\n",
    "for tema in temas:\n",
    "    ruta = f'./JSON/{tema}.json'\n",
    "    with open(ruta) as f:\n",
    "        decoded = json.loads(f.read())\n",
    "        cuestionario['Temas'].append({'Tema':tema,'Data':decoded})\n",
    "\n",
    "with open('./JSON/CuestionarioBeck.json','w') as f:\n",
    "    json.dump(cuestionario,f,indent=4)    "
   ]
  },
  {
   "cell_type": "code",
   "execution_count": 3,
   "metadata": {
    "ExecuteTime": {
     "end_time": "2021-03-03T07:01:22.396411Z",
     "start_time": "2021-03-03T07:01:22.367403Z"
    }
   },
   "outputs": [
    {
     "data": {
      "text/plain": [
       "'Perdida de Placer'"
      ]
     },
     "execution_count": 3,
     "metadata": {},
     "output_type": "execute_result"
    }
   ],
   "source": [
    "cuestionario['Temas'][3]['Tema']"
   ]
  },
  {
   "cell_type": "markdown",
   "metadata": {},
   "source": [
    "Este archivo nos serivirá para ir iterando en el y poder ir mostrando las respuestas al usuario, quien seleccionará una y posteriormente buscaremos las calificaciones asignadas que estaremos sumando para determinar el nivel de depresion del usuario."
   ]
  },
  {
   "cell_type": "markdown",
   "metadata": {},
   "source": [
    "# Iterando en el Archivo para mandar las respuestas al Usuario e ir sacando su Score"
   ]
  },
  {
   "cell_type": "markdown",
   "metadata": {},
   "source": [
    "Funcionamiento base de como se tienen que ir mostrando las preguntas al usuario y como se buscan los valores de cada una de las respuestas para obtener la calificacion final y evaluar al candidato."
   ]
  },
  {
   "cell_type": "code",
   "execution_count": 1,
   "metadata": {
    "ExecuteTime": {
     "end_time": "2021-03-06T17:12:42.673592Z",
     "start_time": "2021-03-06T17:12:42.633585Z"
    }
   },
   "outputs": [],
   "source": [
    "import json"
   ]
  },
  {
   "cell_type": "code",
   "execution_count": 108,
   "metadata": {
    "ExecuteTime": {
     "end_time": "2021-03-18T02:56:46.959764Z",
     "start_time": "2021-03-18T02:56:46.939759Z"
    }
   },
   "outputs": [],
   "source": [
    "f = open('./JSON/CuestionarioBeck.json','r')\n",
    "content = f.read()\n",
    "cuestionario = json.loads(content)"
   ]
  },
  {
   "cell_type": "code",
   "execution_count": 5,
   "metadata": {
    "ExecuteTime": {
     "end_time": "2021-03-06T20:58:09.902306Z",
     "start_time": "2021-03-06T20:56:11.819258Z"
    }
   },
   "outputs": [
    {
     "name": "stdout",
     "output_type": "stream",
     "text": [
      "----------\n",
      "Seleccione una de las siguientes preguntas:\n",
      "No me siento triste\n",
      "Me siento triste gran parte del tiempo\n",
      "Me siento triste todo el tiempo\n",
      "Me siento tan triste o soy tan infeliz que no puedo soportarlo\n"
     ]
    },
    {
     "ename": "KeyboardInterrupt",
     "evalue": "Interrupted by user",
     "output_type": "error",
     "traceback": [
      "\u001b[0;31m---------------------------------------------------------------------------\u001b[0m",
      "\u001b[0;31mKeyboardInterrupt\u001b[0m                         Traceback (most recent call last)",
      "\u001b[0;32m<ipython-input-5-07ec96ed3bc3>\u001b[0m in \u001b[0;36m<module>\u001b[0;34m\u001b[0m\n\u001b[1;32m     20\u001b[0m \u001b[0;34m\u001b[0m\u001b[0m\n\u001b[1;32m     21\u001b[0m         \u001b[0;31m# Registramos la respuesta del usuario en una variable\u001b[0m\u001b[0;34m\u001b[0m\u001b[0;34m\u001b[0m\u001b[0;34m\u001b[0m\u001b[0m\n\u001b[0;32m---> 22\u001b[0;31m         \u001b[0mrespuesta_usuario\u001b[0m \u001b[0;34m=\u001b[0m \u001b[0minput\u001b[0m\u001b[0;34m(\u001b[0m\u001b[0;34m)\u001b[0m\u001b[0;34m\u001b[0m\u001b[0;34m\u001b[0m\u001b[0m\n\u001b[0m\u001b[1;32m     23\u001b[0m         \u001b[0;31m# Se almacenan dichas respuestas en una lista\u001b[0m\u001b[0;34m\u001b[0m\u001b[0;34m\u001b[0m\u001b[0;34m\u001b[0m\u001b[0m\n\u001b[1;32m     24\u001b[0m         \u001b[0mrespuestas_usuario\u001b[0m\u001b[0;34m.\u001b[0m\u001b[0mappend\u001b[0m\u001b[0;34m(\u001b[0m\u001b[0mrespuesta_usuario\u001b[0m\u001b[0;34m)\u001b[0m\u001b[0;34m\u001b[0m\u001b[0;34m\u001b[0m\u001b[0m\n",
      "\u001b[0;32m~/.local/lib/python3.8/site-packages/ipykernel/kernelbase.py\u001b[0m in \u001b[0;36mraw_input\u001b[0;34m(self, prompt)\u001b[0m\n\u001b[1;32m    858\u001b[0m                 \u001b[0;34m\"raw_input was called, but this frontend does not support input requests.\"\u001b[0m\u001b[0;34m\u001b[0m\u001b[0;34m\u001b[0m\u001b[0m\n\u001b[1;32m    859\u001b[0m             )\n\u001b[0;32m--> 860\u001b[0;31m         return self._input_request(str(prompt),\n\u001b[0m\u001b[1;32m    861\u001b[0m             \u001b[0mself\u001b[0m\u001b[0;34m.\u001b[0m\u001b[0m_parent_ident\u001b[0m\u001b[0;34m,\u001b[0m\u001b[0;34m\u001b[0m\u001b[0;34m\u001b[0m\u001b[0m\n\u001b[1;32m    862\u001b[0m             \u001b[0mself\u001b[0m\u001b[0;34m.\u001b[0m\u001b[0m_parent_header\u001b[0m\u001b[0;34m,\u001b[0m\u001b[0;34m\u001b[0m\u001b[0;34m\u001b[0m\u001b[0m\n",
      "\u001b[0;32m~/.local/lib/python3.8/site-packages/ipykernel/kernelbase.py\u001b[0m in \u001b[0;36m_input_request\u001b[0;34m(self, prompt, ident, parent, password)\u001b[0m\n\u001b[1;32m    902\u001b[0m             \u001b[0;32mexcept\u001b[0m \u001b[0mKeyboardInterrupt\u001b[0m\u001b[0;34m:\u001b[0m\u001b[0;34m\u001b[0m\u001b[0;34m\u001b[0m\u001b[0m\n\u001b[1;32m    903\u001b[0m                 \u001b[0;31m# re-raise KeyboardInterrupt, to truncate traceback\u001b[0m\u001b[0;34m\u001b[0m\u001b[0;34m\u001b[0m\u001b[0;34m\u001b[0m\u001b[0m\n\u001b[0;32m--> 904\u001b[0;31m                 \u001b[0;32mraise\u001b[0m \u001b[0mKeyboardInterrupt\u001b[0m\u001b[0;34m(\u001b[0m\u001b[0;34m\"Interrupted by user\"\u001b[0m\u001b[0;34m)\u001b[0m \u001b[0;32mfrom\u001b[0m \u001b[0;32mNone\u001b[0m\u001b[0;34m\u001b[0m\u001b[0;34m\u001b[0m\u001b[0m\n\u001b[0m\u001b[1;32m    905\u001b[0m             \u001b[0;32mexcept\u001b[0m \u001b[0mException\u001b[0m \u001b[0;32mas\u001b[0m \u001b[0me\u001b[0m\u001b[0;34m:\u001b[0m\u001b[0;34m\u001b[0m\u001b[0;34m\u001b[0m\u001b[0m\n\u001b[1;32m    906\u001b[0m                 \u001b[0mself\u001b[0m\u001b[0;34m.\u001b[0m\u001b[0mlog\u001b[0m\u001b[0;34m.\u001b[0m\u001b[0mwarning\u001b[0m\u001b[0;34m(\u001b[0m\u001b[0;34m\"Invalid Message:\"\u001b[0m\u001b[0;34m,\u001b[0m \u001b[0mexc_info\u001b[0m\u001b[0;34m=\u001b[0m\u001b[0;32mTrue\u001b[0m\u001b[0;34m)\u001b[0m\u001b[0;34m\u001b[0m\u001b[0;34m\u001b[0m\u001b[0m\n",
      "\u001b[0;31mKeyboardInterrupt\u001b[0m: Interrupted by user"
     ]
    }
   ],
   "source": [
    "# Listas en donde iremos almacenando las respuestas y las preguntas ya respondidas.\n",
    "temas_respondidos = []\n",
    "respuestas_usuario = []\n",
    "\n",
    "# Iteramos por cada uno de los temas en el JSON\n",
    "for i in range(len(cuestionario['Temas'])):\n",
    "    # seleccionamos el tema en turno y su respectiva data\n",
    "    tema_turno = cuestionario['Temas'][i]['Tema']\n",
    "    data_tema = cuestionario['Temas'][i]['Data']\n",
    "    \n",
    "    # si el tema no está en la lista de los ya recorridos, imprimimos sus respuestas\n",
    "    if tema_turno not in temas_respondidos:\n",
    "        print('-'*10)\n",
    "        print('Seleccione una de las siguientes preguntas:')\n",
    "        # Imprimimos las respuestas que puede dar el usuario para el tema en turno\n",
    "        for x in range(len(data_tema)):\n",
    "            preguntas = data_tema[x]['Respuesta']\n",
    "            valor_respuestas = data_tema[x]['Valor']\n",
    "            print(preguntas)\n",
    "            \n",
    "        # Registramos la respuesta del usuario en una variable\n",
    "        respuesta_usuario = input()\n",
    "        # Se almacenan dichas respuestas en una lista\n",
    "        respuestas_usuario.append(respuesta_usuario)\n",
    "        # Se registra el tema como respondido para que no se repita\n",
    "        temas_respondidos.append(tema_turno)\n",
    "        \n",
    "print('Temas respondidos',len(temas_respondidos)) # debe dar 21\n",
    "print('Respuestas',len(respuestas_usuario)) # debe dar 21"
   ]
  },
  {
   "cell_type": "code",
   "execution_count": 109,
   "metadata": {
    "ExecuteTime": {
     "end_time": "2021-03-18T02:57:07.488510Z",
     "start_time": "2021-03-18T02:57:07.432497Z"
    }
   },
   "outputs": [],
   "source": [
    "# probando el funcionamiento\n",
    "\n",
    "# Estas son las respuestas del usuario\n",
    "respuestas_usuario = ['A','A', 'B', 'C', 'D', 'C', 'B', 'C', 'D', 'B', 'C', 'C', \n",
    "                      'D', 'C', 'C', 'G', 'C', 'C', 'C', 'B', 'C']"
   ]
  },
  {
   "cell_type": "code",
   "execution_count": 13,
   "metadata": {
    "ExecuteTime": {
     "end_time": "2021-03-06T22:43:47.053962Z",
     "start_time": "2021-03-06T22:43:47.025954Z"
    }
   },
   "outputs": [
    {
     "name": "stdout",
     "output_type": "stream",
     "text": [
      "Valores de las resupuestas: [0, 0, 0, 0, 0, 0, 0, 0, 0, 0, 0, 0, 0, 0, 0, 0, 0, 0, 0, 0, 0, 0, 0, 0, 0, 0, 0, 0, 0, 0, 0, 0, 0, 0, 0, 0, 0, 0, 0, 0, 0, 0, 1, 1, 1, 1, 1, 1, 1, 1, 1, 1, 1, 1, 1, 1, 1, 1, 1, 1, 1, 1, 1, 2, 2, 2, 2, 2, 2, 2, 2, 2, 2, 2, 2, 2, 2, 2, 1, 2, 1, 2, 2, 2, 3, 3, 3, 3, 3, 3, 3, 3, 3, 3, 3, 3, 3, 3, 3, 2, 3, 2, 3, 3, 3, 2, 2, 2, 2, 2, 2, 2, 2, 2, 2, 2, 2, 2, 2, 2, 1, 2, 1, 2, 2, 2, 1, 1, 1, 1, 1, 1, 1, 1, 1, 1, 1, 1, 1, 1, 1, 1, 1, 1, 1, 1, 1, 2, 2, 2, 2, 2, 2, 2, 2, 2, 2, 2, 2, 2, 2, 2, 1, 2, 1, 2, 2, 2, 3, 3, 3, 3, 3, 3, 3, 3, 3, 3, 3, 3, 3, 3, 3, 2, 3, 2, 3, 3, 3, 1, 1, 1, 1, 1, 1, 1, 1, 1, 1, 1, 1, 1, 1, 1, 1, 1, 1, 1, 1, 1, 2, 2, 2, 2, 2, 2, 2, 2, 2, 2, 2, 2, 2, 2, 2, 1, 2, 1, 2, 2, 2, 2, 2, 2, 2, 2, 2, 2, 2, 2, 2, 2, 2, 2, 2, 2, 1, 2, 1, 2, 2, 2, 3, 3, 3, 3, 3, 3, 3, 3, 3, 3, 3, 3, 3, 3, 3, 2, 3, 2, 3, 3, 3, 2, 2, 2, 2, 2, 2, 2, 2, 2, 2, 2, 2, 2, 2, 2, 1, 2, 1, 2, 2, 2, 2, 2, 2, 2, 2, 2, 2, 2, 2, 2, 2, 2, 2, 2, 2, 1, 2, 1, 2, 2, 2, 3, 3, 2, 2, 2, 2, 2, 2, 2, 2, 2, 2, 2, 2, 2, 2, 2, 1, 2, 1, 2, 2, 2, 2, 2, 2, 2, 2, 2, 2, 2, 2, 2, 2, 2, 2, 2, 2, 1, 2, 1, 2, 2, 2, 2, 2, 2, 2, 2, 2, 2, 2, 2, 2, 2, 2, 2, 2, 2, 1, 2, 1, 2, 2, 2, 1, 1, 1, 1, 1, 1, 1, 1, 1, 1, 1, 1, 1, 1, 1, 1, 1, 1, 1, 1, 1, 2, 2, 2, 2, 2, 2, 2, 2, 2, 2, 2, 2, 2, 2, 2, 1, 2, 1, 2, 2, 2]\n",
      "Total Valores 422\n",
      "Suma Respuestas 713\n"
     ]
    }
   ],
   "source": [
    "# Generamos una lista en donde iremos colocando los valores de cada una de las preguntas\n",
    "\n",
    "\n",
    "# iteramo c3ws por cada una de las respuestas del usuario\n",
    "for respuesta in respuestas_usuario:\n",
    "    # iteramos por cada uno de los temas en el JSON\n",
    "    for i in range(len(cuestionario['Temas'])):\n",
    "        data_tema = cuestionario['Temas'][i]['Data']\n",
    "        # Iteramos por cada uno de las respuestas posibles en el JSON para cada tema\n",
    "        for x in range(len(data_tema)):\n",
    "            # Si la respuesta del usuario es la misma que la del JSON, extraemos el valor de la misma\n",
    "            # y la mandamos a la lista, con la que podremos realizar el conteo final y obtener la calificacion.\n",
    "            preguntas = data_tema[x]['Inciso']\n",
    "            if respuesta == preguntas:\n",
    "                valor_respuestas = int(data_tema[x]['Valor'])\n",
    "                valor_respuestas_numerico.append(valor_respuestas)\n",
    "                \n",
    "print('Valores de las resupuestas:',valor_respuestas_numerico)\n",
    "print('Total Valores',len(valor_respuestas_numerico))\n",
    "print('Suma Respuestas',sum(valor_respuestas_numerico))"
   ]
  },
  {
   "cell_type": "code",
   "execution_count": 31,
   "metadata": {
    "ExecuteTime": {
     "end_time": "2021-03-06T22:38:03.329161Z",
     "start_time": "2021-03-06T22:38:03.308156Z"
    }
   },
   "outputs": [
    {
     "data": {
      "text/plain": [
       "4"
      ]
     },
     "execution_count": 31,
     "metadata": {},
     "output_type": "execute_result"
    }
   ],
   "source": [
    "len(cuestionario['Temas'][0]['Data'])"
   ]
  },
  {
   "cell_type": "code",
   "execution_count": 38,
   "metadata": {},
   "outputs": [],
   "source": [
    "# Generamos la funcion que estremos utilizando en el Bot.\n",
    "\n",
    "def Valores_Respuestas_Usuario(respuestas_usuario):    \n",
    "    valor_respuestas_numerico = []\n",
    "    f = open('./JSON/CuestionarioBeck.json','r')\n",
    "    content = f.read()\n",
    "    cuestionario = json.loads(content)\n",
    "\n",
    "    for i in range(len(respuestas_usuario)):\n",
    "        resp_user = respuestas_usuario[i]\n",
    "        tema = cuestionario['Temas'][i]['Tema']\n",
    "        data = cuestionario['Temas'][i]['Data']\n",
    "        for x in range(len(data)):\n",
    "            resp = data[x]['Inciso']\n",
    "            valor = data[x]['Valor']\n",
    "            if resp_user == resp:\n",
    "                valor_respuestas_numerico.append(valor)\n",
    "    \n",
    "    return valor_respuestas_numerico\n"
   ]
  },
  {
   "cell_type": "code",
   "execution_count": 39,
   "metadata": {},
   "outputs": [
    {
     "data": {
      "text/plain": [
       "['0',\n",
       " '0',\n",
       " '1',\n",
       " '2',\n",
       " '3',\n",
       " '2',\n",
       " '1',\n",
       " '2',\n",
       " '3',\n",
       " '1',\n",
       " '2',\n",
       " '2',\n",
       " '3',\n",
       " '2',\n",
       " '2',\n",
       " '3',\n",
       " '2',\n",
       " '1',\n",
       " '2',\n",
       " '1',\n",
       " '2']"
      ]
     },
     "execution_count": 39,
     "metadata": {},
     "output_type": "execute_result"
    }
   ],
   "source": [
    "Valores_Respuestas_Usuario(respuestas_usuario)"
   ]
  },
  {
   "cell_type": "code",
   "execution_count": 121,
   "metadata": {
    "ExecuteTime": {
     "end_time": "2021-03-18T03:04:25.393701Z",
     "start_time": "2021-03-18T03:04:25.385697Z"
    }
   },
   "outputs": [],
   "source": [
    "resp_usuario = dict()"
   ]
  },
  {
   "cell_type": "code",
   "execution_count": 122,
   "metadata": {
    "ExecuteTime": {
     "end_time": "2021-03-18T03:04:28.727633Z",
     "start_time": "2021-03-18T03:04:28.714630Z"
    }
   },
   "outputs": [],
   "source": [
    "# Aqui probamos la funcion para guardar los datos de los usuarios. \n",
    "\n",
    "def guardar_respuestas_usuarios(chatid, respuesta):\n",
    "    if chatid in resp_usuario.keys():\n",
    "        resp_usuario[chatid].append(respuesta)\n",
    "    elif chatid not in resp_usuario.keys():\n",
    "        resp_usuario.update({chatid:[respuesta]})\n"
   ]
  },
  {
   "cell_type": "code",
   "execution_count": 132,
   "metadata": {
    "ExecuteTime": {
     "end_time": "2021-03-18T03:18:26.588482Z",
     "start_time": "2021-03-18T03:18:26.565475Z"
    }
   },
   "outputs": [],
   "source": [
    "guardar_respuestas_usuarios(10,'a')\n",
    "guardar_respuestas_usuarios(10,'c')\n",
    "guardar_respuestas_usuarios(10,'d')\n",
    "guardar_respuestas_usuarios(10,'a')\n",
    "\n",
    "guardar_respuestas_usuarios(20,'b')\n",
    "guardar_respuestas_usuarios(20,'c')\n",
    "guardar_respuestas_usuarios(30,'A')\n",
    "guardar_respuestas_usuarios(30,'A')\n",
    "guardar_respuestas_usuarios(30, 'B')\n",
    "guardar_respuestas_usuarios(30, 'C')\n",
    "guardar_respuestas_usuarios(30, 'D')\n",
    "guardar_respuestas_usuarios(30, 'C')\n",
    "guardar_respuestas_usuarios(30, 'B')\n",
    "guardar_respuestas_usuarios(30, 'C')\n",
    "guardar_respuestas_usuarios(30, 'D')\n",
    "guardar_respuestas_usuarios(30, 'B')\n",
    "guardar_respuestas_usuarios(30, 'C')\n",
    "guardar_respuestas_usuarios(30,'D')\n",
    "guardar_respuestas_usuarios(30, 'C')\n",
    "guardar_respuestas_usuarios(30, 'C')\n",
    "guardar_respuestas_usuarios(30, 'G')\n",
    "guardar_respuestas_usuarios(30, 'C')\n",
    "guardar_respuestas_usuarios(30, 'C')\n",
    "guardar_respuestas_usuarios(30, 'C')\n",
    "guardar_respuestas_usuarios(30, 'B')\n",
    "guardar_respuestas_usuarios(30, 'C')\n",
    "guardar_respuestas_usuarios(40, 'a')"
   ]
  },
  {
   "cell_type": "code",
   "execution_count": 138,
   "metadata": {
    "ExecuteTime": {
     "end_time": "2021-03-18T03:20:49.797608Z",
     "start_time": "2021-03-18T03:20:49.774600Z"
    }
   },
   "outputs": [
    {
     "data": {
      "text/plain": [
       "['C',\n",
       " 'D',\n",
       " 'B',\n",
       " 'C',\n",
       " 'D',\n",
       " 'C',\n",
       " 'C',\n",
       " 'G',\n",
       " 'C',\n",
       " 'C',\n",
       " 'C',\n",
       " 'B',\n",
       " 'C',\n",
       " 'A',\n",
       " 'A',\n",
       " 'B',\n",
       " 'C',\n",
       " 'D',\n",
       " 'C',\n",
       " 'B',\n",
       " 'C',\n",
       " 'D',\n",
       " 'B',\n",
       " 'C',\n",
       " 'D',\n",
       " 'C',\n",
       " 'C',\n",
       " 'G',\n",
       " 'C',\n",
       " 'C',\n",
       " 'C',\n",
       " 'B',\n",
       " 'C',\n",
       " 'A',\n",
       " 'A',\n",
       " 'B',\n",
       " 'C',\n",
       " 'D',\n",
       " 'C',\n",
       " 'B',\n",
       " 'C',\n",
       " 'D',\n",
       " 'B',\n",
       " 'C',\n",
       " 'D',\n",
       " 'C',\n",
       " 'C',\n",
       " 'G',\n",
       " 'C',\n",
       " 'C',\n",
       " 'C',\n",
       " 'B',\n",
       " 'C']"
      ]
     },
     "execution_count": 138,
     "metadata": {},
     "output_type": "execute_result"
    }
   ],
   "source": [
    "resp_usuario[30][7:]"
   ]
  },
  {
   "cell_type": "code",
   "execution_count": 126,
   "metadata": {
    "ExecuteTime": {
     "end_time": "2021-03-18T03:05:01.439138Z",
     "start_time": "2021-03-18T03:05:01.424134Z"
    }
   },
   "outputs": [],
   "source": [
    "def Valores_Respuestas_Usuario(id_usuario):    \n",
    "    respuestas_usuario = resp_usuario.get(id_usuario)\n",
    "    valor_respuestas_numerico = []\n",
    "    f = open('./JSON/CuestionarioBeck.json','r')\n",
    "    content = f.read()\n",
    "    cuestionario = json.loads(content)\n",
    "\n",
    "    for i in range(len(respuestas_usuario)):\n",
    "        resp_user = respuestas_usuario[i]\n",
    "        tema = cuestionario['Temas'][i]['Tema']\n",
    "        data = cuestionario['Temas'][i]['Data']\n",
    "        for x in range(len(data)):\n",
    "            resp = data[x]['Inciso']\n",
    "            valor = data[x]['Valor']\n",
    "            if resp_user == resp:\n",
    "                valor_respuestas_numerico.append(valor)\n",
    "    \n",
    "    return valor_respuestas_numerico"
   ]
  },
  {
   "cell_type": "code",
   "execution_count": 127,
   "metadata": {
    "ExecuteTime": {
     "end_time": "2021-03-18T03:05:02.524038Z",
     "start_time": "2021-03-18T03:05:02.504038Z"
    }
   },
   "outputs": [
    {
     "data": {
      "text/plain": [
       "[0, 0, 1, 2, 3, 2, 1, 2, 3, 1, 2, 3, 2, 2, 1, 2, 1, 1, 2]"
      ]
     },
     "execution_count": 127,
     "metadata": {},
     "output_type": "execute_result"
    }
   ],
   "source": [
    "Valores_Respuestas_Usuario(30)"
   ]
  },
  {
   "cell_type": "code",
   "execution_count": 128,
   "metadata": {
    "ExecuteTime": {
     "end_time": "2021-03-18T03:05:06.106170Z",
     "start_time": "2021-03-18T03:05:06.086169Z"
    }
   },
   "outputs": [
    {
     "data": {
      "text/plain": [
       "['A',\n",
       " 'A',\n",
       " 'B',\n",
       " 'C',\n",
       " 'D',\n",
       " 'C',\n",
       " 'B',\n",
       " 'C',\n",
       " 'D',\n",
       " 'B',\n",
       " 'C',\n",
       " 'D',\n",
       " 'C',\n",
       " 'C',\n",
       " 'G',\n",
       " 'C',\n",
       " 'C',\n",
       " 'C',\n",
       " 'B',\n",
       " 'C']"
      ]
     },
     "execution_count": 128,
     "metadata": {},
     "output_type": "execute_result"
    }
   ],
   "source": [
    "resp_usuario[30]"
   ]
  },
  {
   "cell_type": "code",
   "execution_count": null,
   "metadata": {},
   "outputs": [],
   "source": []
  }
 ],
 "metadata": {
  "kernelspec": {
   "display_name": "Python 3",
   "language": "python",
   "name": "python3"
  },
  "language_info": {
   "codemirror_mode": {
    "name": "ipython",
    "version": 3
   },
   "file_extension": ".py",
   "mimetype": "text/x-python",
   "name": "python",
   "nbconvert_exporter": "python",
   "pygments_lexer": "ipython3",
   "version": "3.8.5"
  },
  "toc": {
   "base_numbering": 1,
   "nav_menu": {},
   "number_sections": true,
   "sideBar": true,
   "skip_h1_title": false,
   "title_cell": "Table of Contents",
   "title_sidebar": "Contents",
   "toc_cell": false,
   "toc_position": {},
   "toc_section_display": true,
   "toc_window_display": false
  }
 },
 "nbformat": 4,
 "nbformat_minor": 4
}
