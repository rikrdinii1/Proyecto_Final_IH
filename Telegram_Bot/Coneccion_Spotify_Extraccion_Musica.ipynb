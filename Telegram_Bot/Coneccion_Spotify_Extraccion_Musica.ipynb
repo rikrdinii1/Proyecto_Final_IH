{
 "cells": [
  {
   "cell_type": "markdown",
   "metadata": {},
   "source": [
    "# Librerias"
   ]
  },
  {
   "cell_type": "code",
   "execution_count": 1,
   "metadata": {
    "ExecuteTime": {
     "end_time": "2021-03-12T17:54:51.265959Z",
     "start_time": "2021-03-12T17:54:40.373766Z"
    }
   },
   "outputs": [],
   "source": [
    "import pandas as pd\n",
    "import base64\n",
    "import requests\n",
    "import datetime\n",
    "from urllib.parse import urlencode\n",
    "import json\n",
    "import re"
   ]
  },
  {
   "cell_type": "markdown",
   "metadata": {},
   "source": [
    "# Coneccion con la API de Spotify"
   ]
  },
  {
   "cell_type": "code",
   "execution_count": 8,
   "metadata": {
    "ExecuteTime": {
     "end_time": "2021-03-12T18:03:59.799978Z",
     "start_time": "2021-03-12T18:03:59.740960Z"
    }
   },
   "outputs": [],
   "source": [
    "class SpotifyAPI(object):\n",
    "    access_token = None\n",
    "    access_token_expires = datetime.datetime.now()\n",
    "    client_id = None\n",
    "    client_secret = None\n",
    "    access_token_did_expire = True\n",
    "    token_url = 'https://accounts.spotify.com/api/token'\n",
    "    \n",
    "    def __init__(self, client_id, client_secret, *args, **kwargs):\n",
    "        super().__init__(*args,**kwargs)\n",
    "        self.client_id = client_id\n",
    "        self.client_secret = client_secret\n",
    "    \n",
    "    # Aqui se crean las credenciales en base 64 para poder acceder a la API\n",
    "    def get_client_credentials(self):\n",
    "        \"\"\" returns a base64 encoded string \"\"\"\n",
    "        client_id = self.client_id\n",
    "        client_secret = self.client_secret\n",
    "        if client_secret == None or client_id == None:\n",
    "            raise Exception(\"You must set client_id and client_secret\")\n",
    "            \n",
    "        client_creds = f\"{client_id}:{client_secret}\"\n",
    "        client_creds_b64 = base64.b64encode(client_creds.encode())        \n",
    "        return client_creds_b64.decode()\n",
    "    \n",
    "    # Aqui estamos generando los headers de acceso\n",
    "    def get_token_headers(self):\n",
    "        client_creds_b64 = self.get_client_credentials()\n",
    "        \n",
    "        return {\n",
    "            \"Authorization\":f\"Basic {client_creds_b64}\"\n",
    "        }\n",
    "    \n",
    "    # Aqui obtenemos el Token Data\n",
    "    def get_token_data(self):\n",
    "        return {\n",
    "            \"grant_type\":\"client_credentials\"\n",
    "        }\n",
    "    \n",
    "    # Aqui nos autentificamos y obtenemos el token de acceso\n",
    "    def perform_auth(self):\n",
    "        token_url = self.token_url\n",
    "        token_data = self.get_token_data()\n",
    "        token_headers = self.get_token_headers()\n",
    "        \n",
    "        r = requests.post(token_url, data = token_data, headers = token_headers)\n",
    "\n",
    "        if r.status_code not in range(200,299):\n",
    "            raise Exceptiontion('Could not authenticate client')\n",
    "            \n",
    "        data = r.json()\n",
    "        now = datetime.datetime.now()\n",
    "        acces_token = data['access_token']\n",
    "        expires_in = data['expires_in'] #seconds\n",
    "        expires = now + datetime.timedelta(seconds = expires_in)\n",
    "        self.access_token = acces_token\n",
    "        self.access_token_expires = expires\n",
    "        self.access_token_did_expire = expires < now\n",
    "        return True\n",
    "    \n",
    "    # Extraemos el token de acceso\n",
    "    def get_access_token(self):\n",
    "        token = self.access_token\n",
    "        expires = self.access_token_expires\n",
    "        now = datetime.datetime.now()\n",
    "        if expires < now:\n",
    "            self.perform_auth()\n",
    "            return self.get_access_token()\n",
    "        elif token == None:\n",
    "            self.perform_auth()\n",
    "            return self.get_access_token()\n",
    "        return token\n",
    "    \n",
    "    # Aqui son los headers de para las busquedas\n",
    "    def get_resource_header(self):\n",
    "        access_token = self.get_access_token()\n",
    "        headers = {\n",
    "            \"Authorization\":f\"Bearer {access_token}\"\n",
    "        }\n",
    "        return headers\n",
    "        \n",
    "    # busqueda de listas de reproduccion\n",
    "    def get_user_playlist(self,u_id):\n",
    "        endpoint = f'https://api.spotify.com/v1/users/{u_id}/playlists'\n",
    "        headers = self.get_resource_header()\n",
    "        r = requests.get(endpoint,headers=headers)\n",
    "        if r.status_code not in range(200,299):\n",
    "            return {}\n",
    "        return r.json()\n",
    "    \n",
    "    # Busqueda de las canciones por playlist: nombre, \n",
    "    def get_song_playlist(self,playlist_id):\n",
    "        endpoint = f'https://api.spotify.com/v1/playlists/{playlist_id}/tracks'\n",
    "        headers = self.get_resource_header()\n",
    "        r = requests.get(endpoint,headers=headers)\n",
    "        if r.status_code not in range(200,299):\n",
    "            return {}\n",
    "        return r.json()\n",
    "    \n",
    "    # Busqueda de las caracteristicas de las canciones\n",
    "    def get_audio_features(self,song_id):\n",
    "        endpoint = f'https://api.spotify.com/v1/audio-features/{song_id}'\n",
    "        headers = self.get_resource_header()\n",
    "        r = requests.get(endpoint,headers=headers)\n",
    "        if r.status_code not in range(200,299):\n",
    "            return {}\n",
    "        return r.json()\n",
    "    \n",
    "    # Busqueda de la informacion de los artistas\n",
    "    def get_data_artist(self,artist_id):\n",
    "        endpoint = f'https://api.spotify.com/v1/artists/{artist_id}'\n",
    "        headers = self.get_resource_header()\n",
    "        r = requests.get(endpoint,headers=headers)\n",
    "        if r.status_code not in range(200,299):\n",
    "            return {}\n",
    "        return r.json()\n",
    "    \n",
    "    def recommendation_genre_seeds(self):\n",
    "        \"\"\" Get a list of genres available for the recommendations function.\n",
    "        \"\"\"\n",
    "        endpoint = f'https://api.spotify.com/v1/recommendations/available-genre-seeds'\n",
    "        headers = self.get_resource_header()\n",
    "        r = requests.get(endpoint,headers=headers)\n",
    "        if r.status_code not in range(200,299):\n",
    "            return {}\n",
    "        return r.json()\n",
    "    \n",
    "    # Seguir revisando funcion\n",
    "    def get_track_recommendations(self):\n",
    "        # Pendiente modificar el endpoint con los parametros de busqueda\n",
    "        endpoint = \"https://api.spotify.com/v1/recommendations?limit=20&seed_artists=4NHQUGzhtTLFvgF5SZesLK&seed_genres=rock&seed_tracks=0c6xIDDpzE81m2q797ordA%2C7ne5aZDaAUnundo6aI2KOG%2C2wOMnyjpDSU20v9fwLFITn&min_valence=.5&max_valence=1&target_valence=.8\"\n",
    "        headers = self.get_resource_header()\n",
    "        r = requests.get(endpoint,headers=headers\n",
    "        if r.status_code not in range(200,299):\n",
    "            return {}\n",
    "        return r.json()\n",
    "\n",
    "    # https://github.com/plamere/spotipy/blob/master/spotipy/client.py --> Codigo Fuente\n",
    "    # https://spotipy.readthedocs.io/en/2.17.1/ --> Libreria\n",
    "    def recommendations(self,seed_artists=None,seed_genres=None,seed_tracks=None,limit=20,country=None,**kwargs):\n",
    "        \"\"\" Get a list of recommended tracks for one to five seeds.\n",
    "            (at least one of `seed_artists`, `seed_tracks` and `seed_genres`\n",
    "            are needed)\n",
    "            Parameters:\n",
    "                - seed_artists - a list of artist IDs, URIs or URLs\n",
    "                - seed_tracks - a list of track IDs, URIs or URLs\n",
    "                - seed_genres - a list of genre names. Available genres for\n",
    "                                recommendations can be found by calling\n",
    "                                recommendation_genre_seeds\n",
    "                - country - An ISO 3166-1 alpha-2 country code. If provided,\n",
    "                            all results will be playable in this country.\n",
    "                - limit - The maximum number of items to return. Default: 20.\n",
    "                          Minimum: 1. Maximum: 100\n",
    "                - min/max/target_<attribute> - For the tuneable track\n",
    "                    attributes listed in the documentation, these values\n",
    "                    provide filters and targeting on results.\n",
    "        \"\"\"\n",
    "        params = dict(limit=limit)\n",
    "        if seed_artists:\n",
    "            params[\"seed_artists\"] = \",\".join(\n",
    "                [self._get_id(\"artist\", a) for a in seed_artists]\n",
    "            )\n",
    "        if seed_genres:\n",
    "            params[\"seed_genres\"] = \",\".join(seed_genres)\n",
    "        if seed_tracks:\n",
    "            params[\"seed_tracks\"] = \",\".join(\n",
    "                [self._get_id(\"track\", t) for t in seed_tracks]\n",
    "            )\n",
    "        if country:\n",
    "            params[\"market\"] = country\n",
    "\n",
    "        for attribute in [\n",
    "            \"acousticness\",\n",
    "            \"danceability\",\n",
    "            \"duration_ms\",\n",
    "            \"energy\",\n",
    "            \"instrumentalness\",\n",
    "            \"key\",\n",
    "            \"liveness\",\n",
    "            \"loudness\",\n",
    "            \"mode\",\n",
    "            \"popularity\",\n",
    "            \"speechiness\",\n",
    "            \"tempo\",\n",
    "            \"time_signature\",\n",
    "            \"valence\",\n",
    "        ]:\n",
    "            for prefix in [\"min_\", \"max_\", \"target_\"]:\n",
    "                param = prefix + attribute\n",
    "                if param in kwargs:\n",
    "                    params[param] = kwargs[param]\n",
    "        return self._get(\"recommendations\", **params)\n",
    "    "
   ]
  },
  {
   "cell_type": "code",
   "execution_count": 3,
   "metadata": {
    "ExecuteTime": {
     "end_time": "2021-03-12T17:54:51.458036Z",
     "start_time": "2021-03-12T17:54:51.406023Z"
    }
   },
   "outputs": [],
   "source": [
    "# Llaves de acceso para conectarnos a la API de Spotify\n",
    "client_id = 'SECRETO'\n",
    "client_secret = 'SECRETO'"
   ]
  },
  {
   "cell_type": "code",
   "execution_count": 4,
   "metadata": {
    "ExecuteTime": {
     "end_time": "2021-03-12T17:54:51.507029Z",
     "start_time": "2021-03-12T17:54:51.468018Z"
    }
   },
   "outputs": [],
   "source": [
    "# Llamamos a la funcion y le asignamos nuestros client ID y Client Secret\n",
    "spotify = SpotifyAPI(client_id,client_secret)"
   ]
  },
  {
   "cell_type": "code",
   "execution_count": 5,
   "metadata": {
    "ExecuteTime": {
     "end_time": "2021-03-12T17:54:52.077015Z",
     "start_time": "2021-03-12T17:54:51.519033Z"
    }
   },
   "outputs": [
    {
     "data": {
      "text/plain": [
       "True"
      ]
     },
     "execution_count": 5,
     "metadata": {},
     "output_type": "execute_result"
    }
   ],
   "source": [
    "# Nos indica si fue realizada la coneccion con la API\n",
    "spotify.perform_auth()"
   ]
  },
  {
   "cell_type": "code",
   "execution_count": 6,
   "metadata": {
    "ExecuteTime": {
     "end_time": "2021-03-12T17:54:52.093021Z",
     "start_time": "2021-03-12T17:54:52.083021Z"
    }
   },
   "outputs": [
    {
     "data": {
      "text/plain": [
       "'BQA7p2MvXRyPfuxVaUIIEUkwxQllFkp4hzcAtFdUdE9C7634Zr-YoYDcYeTOMO-ErfmOPHa903g5ifzi5rQ'"
      ]
     },
     "execution_count": 6,
     "metadata": {},
     "output_type": "execute_result"
    }
   ],
   "source": [
    "# Obtenemos el access_token que nos servirá para las consultas nescesarias. Por eso lo guardamos en una variable y que sea mas\n",
    "# sencillo llamarlo posteriormente.\n",
    "access_token = spotify.access_token\n",
    "access_token"
   ]
  },
  {
   "cell_type": "markdown",
   "metadata": {},
   "source": [
    "Valence: Medida de 0.0 a 1.0 que describe la positividad musical que transmite una pista. Las pistas con valencia alta \n",
    "suenan más positivas (por ejemplo, feliz, alegre, eufórico), mientras que las pistas con valencia baja suenan más \n",
    "negativas (por ejemplo, triste, deprimido, enojado)."
   ]
  },
  {
   "cell_type": "markdown",
   "metadata": {
    "ExecuteTime": {
     "end_time": "2021-02-03T02:19:06.637575Z",
     "start_time": "2021-02-03T02:19:06.619570Z"
    },
    "heading_collapsed": true
   },
   "source": [
    "# Obtencion de la Data"
   ]
  },
  {
   "cell_type": "code",
   "execution_count": 16,
   "metadata": {
    "ExecuteTime": {
     "end_time": "2021-02-25T02:58:18.817991Z",
     "start_time": "2021-02-25T02:58:18.808990Z"
    },
    "hidden": true
   },
   "outputs": [],
   "source": [
    "#https://medium.com/@goyoregalado/bots-de-telegram-en-python-134b964fcdf7\n",
    "# Bot de Telegram"
   ]
  },
  {
   "cell_type": "markdown",
   "metadata": {
    "ExecuteTime": {
     "end_time": "2021-02-02T23:42:53.656390Z",
     "start_time": "2021-02-02T23:42:53.649387Z"
    }
   },
   "source": [
    "# Regex Para Identificar Lista de Reproduccion o Canciones"
   ]
  },
  {
   "cell_type": "code",
   "execution_count": 20,
   "metadata": {
    "ExecuteTime": {
     "end_time": "2021-02-25T02:59:11.289123Z",
     "start_time": "2021-02-25T02:58:57.160476Z"
    }
   },
   "outputs": [
    {
     "name": "stdout",
     "output_type": "stream",
     "text": [
      "https://open.spotify.com/playlist/6Fc15OjwTbMpKbMen7jcfV?si=YOb_KgcyTNmvYJjwpaOfrQ\n",
      "ID Playlist:  ['6Fc15OjwTbMpKbMen7jcfV']\n",
      "ID Artist:  []\n"
     ]
    }
   ],
   "source": [
    "def get_id_playlist(url):\n",
    "    \"\"\"\n",
    "    Se recibe un link a la lista de reproduccion, y se extrae unicamente el ID de dicha lista \n",
    "    para analizar las canciones y sus atributos\n",
    "    \"\"\"\n",
    "    expresion = r'\\w{22,23}'\n",
    "    id_playlist = re.findall(expresion,url)\n",
    "    if len(id_playlist)>1:\n",
    "        return id_playlist[0]\n",
    "    else:\n",
    "        return id_playlist\n",
    "\n",
    "def get_id_artist(url):\n",
    "    \"\"\"\n",
    "    Se recibe un link del artista, y se extrae unicamente el ID de dicho artista para analizar las canciones\n",
    "    y sus atributos\n",
    "    \"\"\"\n",
    "    expresion = r'\\w{22,23}'\n",
    "    id_artist = re.findall(exprecion,url)\n",
    "    if len(id_artist)>1:\n",
    "        return id_artist[0]\n",
    "    else:\n",
    "        return id_artist\n",
    "\n",
    "def song_playlist(id_playlist):\n",
    "\n",
    "    \"\"\"\n",
    "    Funcion para obtener los ID de canciones que se encuentran en una Playlist. \n",
    "    Retorna una lista con los ID\n",
    "    \"\"\"\n",
    "    canciones = spotify.get_song_playlist(id_playlist)\n",
    "    id_canciones = pd.json_normalize(canciones['items'])\n",
    "    song_list = id_canciones['track.id'].to_list()\n",
    "    \n",
    "    return song_list\n",
    "\n",
    "def song_features(canciones_id):\n",
    "    \"\"\"\n",
    "    Funcion para obtener las caracteristicas de las canciones. \n",
    "    descarga y limpia los datos.\n",
    "    Requiere de un listado de ID de canciones\n",
    "    Nos retorna un DataFrame con las caracteristicas de las canciones.\n",
    "    \"\"\"\n",
    "    # Hacemos el DataFrame de todas las caracteristicas de las canciones obtenidas de las Playlist\n",
    "    song_features = []\n",
    "    # Buscamos la info de cada cancion\n",
    "    for i in canciones_id:\n",
    "        features = spotify.get_audio_features(i)\n",
    "        features_norm = pd.json_normalize(features)\n",
    "        #featrures_norm['ID Cancion'] = i # aqui agregamos la columna con el numero de ID de la cancion\n",
    "        # Creamos una lista con la info por cada cancion\n",
    "        song_features.append(features_norm)\n",
    "    \n",
    "    # Generamos un solo DF\n",
    "    df_features = pd.concat(song_features)\n",
    "    # Eliminamos las columnas inservibles\n",
    "    drop_cols =['type','uri','track_href', 'analysis_url', 'duration_ms','time_signature']\n",
    "    df_features= df_features.drop(columns=drop_cols,axis=1).reset_index(drop=True)\n",
    "    \n",
    "    return df_features\n",
    "\n",
    "# Obtencion de la informacion por parte del usuario\n",
    "id_artist = []\n",
    "id_playlist = []\n",
    "no_viable = []\n",
    "\n",
    "# se le pide al usuario la info separada por comas\n",
    "user_input = input().split(',')\n",
    "\n",
    "# se identifica si representa a un artista o playlist\n",
    "for i in user_input:\n",
    "    if 'artist' in i:\n",
    "        id_artist.append(i)\n",
    "    elif 'playlist' in i:\n",
    "        id_playlist.append(i)\n",
    "    else:\n",
    "        no_viable.append(i)\n",
    "\n",
    "# Pasamos la lista de URL y dejamos unicamente los ID buscados\n",
    "id_playlist = [get_id_playlist(url) for url in id_playlist] \n",
    "id_artist = [get_id_artist(url) for url in id_artist]\n",
    "\n",
    "print('ID Playlist: ',id_playlist)\n",
    "print('ID Artist: ',id_artist)"
   ]
  },
  {
   "cell_type": "code",
   "execution_count": null,
   "metadata": {
    "ExecuteTime": {
     "end_time": "2021-02-25T02:56:24.363194Z",
     "start_time": "2021-02-25T02:56:10.588Z"
    }
   },
   "outputs": [],
   "source": [
    "# Listas de reproduccion\n",
    "Listas_reproduccion = ['https://open.spotify.com/playlist/6Fc15OjwTbMpKbMen7jcfV?si=YOb_KgcyTNmvYJjwpaOfrQ','https://open.spotify.com/playlist/37i9dQZF1DX95gx8SY6DLX?si=Yc6aodgDSBCZEAFhkLAP8w']"
   ]
  },
  {
   "cell_type": "code",
   "execution_count": null,
   "metadata": {
    "ExecuteTime": {
     "end_time": "2021-02-25T02:56:24.367190Z",
     "start_time": "2021-02-25T02:56:10.644Z"
    }
   },
   "outputs": [],
   "source": [
    "# Artistas\n",
    "Lista_artistas = ['https://open.spotify.com/artist/6olE6TJLqED3rqDCT0FyPh?si=qqDe2hHFTbSlxbMoIkbwhg','https://open.spotify.com/artist/2QsynagSdAqZj3U9HgDzjD?si=fXrkOyVMRxGBDbxJOdv26A']"
   ]
  },
  {
   "cell_type": "code",
   "execution_count": null,
   "metadata": {
    "ExecuteTime": {
     "end_time": "2021-02-25T02:56:24.371191Z",
     "start_time": "2021-02-25T02:56:10.651Z"
    }
   },
   "outputs": [],
   "source": [
    "#https://developer.spotify.com/console/get-recommendations/?seed_artists=4NHQUGzhtTLFvgF5SZesLK&seed_tracks=0c6xIDDpzE81m2q797ordA&min_energy=0.4&min_popularity=50&market=US"
   ]
  },
  {
   "cell_type": "markdown",
   "metadata": {
    "ExecuteTime": {
     "end_time": "2021-02-20T21:54:59.297689Z",
     "start_time": "2021-02-20T21:54:59.273684Z"
    }
   },
   "source": [
    "# Pruebas recomendacion"
   ]
  },
  {
   "cell_type": "code",
   "execution_count": 26,
   "metadata": {
    "ExecuteTime": {
     "end_time": "2021-02-25T03:00:53.571526Z",
     "start_time": "2021-02-25T03:00:22.551269Z"
    }
   },
   "outputs": [],
   "source": [
    "canciones = song_playlist('6Fc15OjwTbMpKbMen7jcfV')\n",
    "caracteristicas = song_features(canciones)"
   ]
  },
  {
   "cell_type": "code",
   "execution_count": 27,
   "metadata": {
    "ExecuteTime": {
     "end_time": "2021-02-25T03:00:53.804585Z",
     "start_time": "2021-02-25T03:00:53.576529Z"
    }
   },
   "outputs": [
    {
     "data": {
      "text/html": [
       "<div>\n",
       "<style scoped>\n",
       "    .dataframe tbody tr th:only-of-type {\n",
       "        vertical-align: middle;\n",
       "    }\n",
       "\n",
       "    .dataframe tbody tr th {\n",
       "        vertical-align: top;\n",
       "    }\n",
       "\n",
       "    .dataframe thead th {\n",
       "        text-align: right;\n",
       "    }\n",
       "</style>\n",
       "<table border=\"1\" class=\"dataframe\">\n",
       "  <thead>\n",
       "    <tr style=\"text-align: right;\">\n",
       "      <th></th>\n",
       "      <th>danceability</th>\n",
       "      <th>energy</th>\n",
       "      <th>key</th>\n",
       "      <th>loudness</th>\n",
       "      <th>mode</th>\n",
       "      <th>speechiness</th>\n",
       "      <th>acousticness</th>\n",
       "      <th>instrumentalness</th>\n",
       "      <th>liveness</th>\n",
       "      <th>valence</th>\n",
       "      <th>tempo</th>\n",
       "      <th>id</th>\n",
       "    </tr>\n",
       "  </thead>\n",
       "  <tbody>\n",
       "    <tr>\n",
       "      <th>0</th>\n",
       "      <td>0.298</td>\n",
       "      <td>0.990</td>\n",
       "      <td>4</td>\n",
       "      <td>-3.357</td>\n",
       "      <td>0</td>\n",
       "      <td>0.1280</td>\n",
       "      <td>0.00873</td>\n",
       "      <td>0.000166</td>\n",
       "      <td>0.4720</td>\n",
       "      <td>0.455</td>\n",
       "      <td>134.754</td>\n",
       "      <td>7ne5aZDaAUnundo6aI2KOG</td>\n",
       "    </tr>\n",
       "    <tr>\n",
       "      <th>1</th>\n",
       "      <td>0.723</td>\n",
       "      <td>0.885</td>\n",
       "      <td>6</td>\n",
       "      <td>-4.512</td>\n",
       "      <td>0</td>\n",
       "      <td>0.0429</td>\n",
       "      <td>0.06080</td>\n",
       "      <td>0.000000</td>\n",
       "      <td>0.0899</td>\n",
       "      <td>0.602</td>\n",
       "      <td>131.968</td>\n",
       "      <td>0HCppMSh838nCgSxskJGzz</td>\n",
       "    </tr>\n",
       "    <tr>\n",
       "      <th>2</th>\n",
       "      <td>0.364</td>\n",
       "      <td>0.880</td>\n",
       "      <td>7</td>\n",
       "      <td>-1.668</td>\n",
       "      <td>1</td>\n",
       "      <td>0.0491</td>\n",
       "      <td>0.23100</td>\n",
       "      <td>0.000019</td>\n",
       "      <td>0.1480</td>\n",
       "      <td>0.261</td>\n",
       "      <td>141.910</td>\n",
       "      <td>2wOMnyjpDSU20v9fwLFITn</td>\n",
       "    </tr>\n",
       "    <tr>\n",
       "      <th>3</th>\n",
       "      <td>0.338</td>\n",
       "      <td>0.436</td>\n",
       "      <td>4</td>\n",
       "      <td>-3.502</td>\n",
       "      <td>1</td>\n",
       "      <td>0.0355</td>\n",
       "      <td>0.88600</td>\n",
       "      <td>0.000000</td>\n",
       "      <td>0.0964</td>\n",
       "      <td>0.286</td>\n",
       "      <td>180.028</td>\n",
       "      <td>5vkO24j51l4ApsHE7Gw9nK</td>\n",
       "    </tr>\n",
       "    <tr>\n",
       "      <th>4</th>\n",
       "      <td>0.471</td>\n",
       "      <td>0.366</td>\n",
       "      <td>4</td>\n",
       "      <td>-13.938</td>\n",
       "      <td>1</td>\n",
       "      <td>0.0395</td>\n",
       "      <td>0.00368</td>\n",
       "      <td>0.000000</td>\n",
       "      <td>0.1100</td>\n",
       "      <td>0.273</td>\n",
       "      <td>142.646</td>\n",
       "      <td>1dU383l2TLND7OfsFzSbrE</td>\n",
       "    </tr>\n",
       "    <tr>\n",
       "      <th>...</th>\n",
       "      <td>...</td>\n",
       "      <td>...</td>\n",
       "      <td>...</td>\n",
       "      <td>...</td>\n",
       "      <td>...</td>\n",
       "      <td>...</td>\n",
       "      <td>...</td>\n",
       "      <td>...</td>\n",
       "      <td>...</td>\n",
       "      <td>...</td>\n",
       "      <td>...</td>\n",
       "      <td>...</td>\n",
       "    </tr>\n",
       "    <tr>\n",
       "      <th>95</th>\n",
       "      <td>0.578</td>\n",
       "      <td>0.803</td>\n",
       "      <td>1</td>\n",
       "      <td>-7.576</td>\n",
       "      <td>0</td>\n",
       "      <td>0.0285</td>\n",
       "      <td>0.01730</td>\n",
       "      <td>0.000000</td>\n",
       "      <td>0.1710</td>\n",
       "      <td>0.723</td>\n",
       "      <td>139.991</td>\n",
       "      <td>4SeWTbfjNvu6ljXCo61tra</td>\n",
       "    </tr>\n",
       "    <tr>\n",
       "      <th>96</th>\n",
       "      <td>0.451</td>\n",
       "      <td>0.463</td>\n",
       "      <td>7</td>\n",
       "      <td>-10.464</td>\n",
       "      <td>1</td>\n",
       "      <td>0.0281</td>\n",
       "      <td>0.34500</td>\n",
       "      <td>0.000000</td>\n",
       "      <td>0.1110</td>\n",
       "      <td>0.228</td>\n",
       "      <td>130.244</td>\n",
       "      <td>4Bc6LZXRkPZ2NWDDS1GTbf</td>\n",
       "    </tr>\n",
       "    <tr>\n",
       "      <th>97</th>\n",
       "      <td>0.453</td>\n",
       "      <td>0.820</td>\n",
       "      <td>0</td>\n",
       "      <td>-6.184</td>\n",
       "      <td>1</td>\n",
       "      <td>0.0699</td>\n",
       "      <td>0.09710</td>\n",
       "      <td>0.000000</td>\n",
       "      <td>0.0560</td>\n",
       "      <td>0.641</td>\n",
       "      <td>158.635</td>\n",
       "      <td>3w4AROEjy3xNq7hBvKXbN0</td>\n",
       "    </tr>\n",
       "    <tr>\n",
       "      <th>98</th>\n",
       "      <td>0.618</td>\n",
       "      <td>0.859</td>\n",
       "      <td>4</td>\n",
       "      <td>-4.057</td>\n",
       "      <td>1</td>\n",
       "      <td>0.0682</td>\n",
       "      <td>0.01310</td>\n",
       "      <td>0.000007</td>\n",
       "      <td>0.2050</td>\n",
       "      <td>0.495</td>\n",
       "      <td>131.952</td>\n",
       "      <td>2CBofenBewzkNUKyxDZOnO</td>\n",
       "    </tr>\n",
       "    <tr>\n",
       "      <th>99</th>\n",
       "      <td>0.374</td>\n",
       "      <td>0.808</td>\n",
       "      <td>0</td>\n",
       "      <td>-5.605</td>\n",
       "      <td>1</td>\n",
       "      <td>0.1740</td>\n",
       "      <td>0.14000</td>\n",
       "      <td>0.000090</td>\n",
       "      <td>0.4120</td>\n",
       "      <td>0.610</td>\n",
       "      <td>154.970</td>\n",
       "      <td>0civjF5ymnkoJIx01l05Kq</td>\n",
       "    </tr>\n",
       "  </tbody>\n",
       "</table>\n",
       "<p>100 rows × 12 columns</p>\n",
       "</div>"
      ],
      "text/plain": [
       "    danceability  energy  key  loudness  mode  speechiness  acousticness  \\\n",
       "0          0.298   0.990    4    -3.357     0       0.1280       0.00873   \n",
       "1          0.723   0.885    6    -4.512     0       0.0429       0.06080   \n",
       "2          0.364   0.880    7    -1.668     1       0.0491       0.23100   \n",
       "3          0.338   0.436    4    -3.502     1       0.0355       0.88600   \n",
       "4          0.471   0.366    4   -13.938     1       0.0395       0.00368   \n",
       "..           ...     ...  ...       ...   ...          ...           ...   \n",
       "95         0.578   0.803    1    -7.576     0       0.0285       0.01730   \n",
       "96         0.451   0.463    7   -10.464     1       0.0281       0.34500   \n",
       "97         0.453   0.820    0    -6.184     1       0.0699       0.09710   \n",
       "98         0.618   0.859    4    -4.057     1       0.0682       0.01310   \n",
       "99         0.374   0.808    0    -5.605     1       0.1740       0.14000   \n",
       "\n",
       "    instrumentalness  liveness  valence    tempo                      id  \n",
       "0           0.000166    0.4720    0.455  134.754  7ne5aZDaAUnundo6aI2KOG  \n",
       "1           0.000000    0.0899    0.602  131.968  0HCppMSh838nCgSxskJGzz  \n",
       "2           0.000019    0.1480    0.261  141.910  2wOMnyjpDSU20v9fwLFITn  \n",
       "3           0.000000    0.0964    0.286  180.028  5vkO24j51l4ApsHE7Gw9nK  \n",
       "4           0.000000    0.1100    0.273  142.646  1dU383l2TLND7OfsFzSbrE  \n",
       "..               ...       ...      ...      ...                     ...  \n",
       "95          0.000000    0.1710    0.723  139.991  4SeWTbfjNvu6ljXCo61tra  \n",
       "96          0.000000    0.1110    0.228  130.244  4Bc6LZXRkPZ2NWDDS1GTbf  \n",
       "97          0.000000    0.0560    0.641  158.635  3w4AROEjy3xNq7hBvKXbN0  \n",
       "98          0.000007    0.2050    0.495  131.952  2CBofenBewzkNUKyxDZOnO  \n",
       "99          0.000090    0.4120    0.610  154.970  0civjF5ymnkoJIx01l05Kq  \n",
       "\n",
       "[100 rows x 12 columns]"
      ]
     },
     "execution_count": 27,
     "metadata": {},
     "output_type": "execute_result"
    }
   ],
   "source": [
    "caracteristicas"
   ]
  },
  {
   "cell_type": "code",
   "execution_count": 61,
   "metadata": {
    "ExecuteTime": {
     "end_time": "2021-02-25T03:16:25.002676Z",
     "start_time": "2021-02-25T03:16:24.681076Z"
    },
    "scrolled": true
   },
   "outputs": [],
   "source": [
    "canciones\n",
    "\n",
    "seed_tracks = ['0c6xIDDpzE81m2q797ordA','7ne5aZDaAUnundo6aI2KOG','2wOMnyjpDSU20v9fwLFITn']\n",
    "seed_artist = '4NHQUGzhtTLFvgF5SZesLK'\n",
    "seed_genres = 'country'\n",
    "\n",
    "recomendaciones = spotify.get_track_recommentations(seed_tracks=seed_tracks,seed_artist=seed_artist,seed_genres=seed_genres)"
   ]
  },
  {
   "cell_type": "code",
   "execution_count": 62,
   "metadata": {
    "ExecuteTime": {
     "end_time": "2021-02-25T03:16:26.296039Z",
     "start_time": "2021-02-25T03:16:26.278038Z"
    }
   },
   "outputs": [
    {
     "data": {
      "text/plain": [
       "{}"
      ]
     },
     "execution_count": 62,
     "metadata": {},
     "output_type": "execute_result"
    }
   ],
   "source": [
    "# PREGUNTAR POR EL ARTISTA FAVORITO, LISTA DE REPRODUCCION Y GENEROS FAVORITOS\n",
    "recomendaciones"
   ]
  },
  {
   "cell_type": "code",
   "execution_count": 57,
   "metadata": {
    "ExecuteTime": {
     "end_time": "2021-02-25T03:12:37.945873Z",
     "start_time": "2021-02-25T03:12:37.934872Z"
    }
   },
   "outputs": [],
   "source": [
    "seed_tracks_url = ''\n",
    "for seed_track in seed_tracks:\n",
    "    seed_tracks_url += seed_track + '%2C'\n",
    "\n",
    "seed_tracks_url = seed_tracks_url[:-3]\n"
   ]
  },
  {
   "cell_type": "code",
   "execution_count": 59,
   "metadata": {
    "ExecuteTime": {
     "end_time": "2021-02-25T03:13:14.296821Z",
     "start_time": "2021-02-25T03:13:14.280794Z"
    }
   },
   "outputs": [
    {
     "data": {
      "text/plain": [
       "True"
      ]
     },
     "execution_count": 59,
     "metadata": {},
     "output_type": "execute_result"
    }
   ],
   "source": [
    "original = '0c6xIDDpzE81m2q797ordA%2C7ne5aZDaAUnundo6aI2KOG%2C2wOMnyjpDSU20v9fwLFITn'\n",
    "seed_tracks_url==original"
   ]
  },
  {
   "cell_type": "code",
   "execution_count": 7,
   "metadata": {
    "ExecuteTime": {
     "end_time": "2021-03-12T17:54:59.145366Z",
     "start_time": "2021-03-12T17:54:58.856736Z"
    }
   },
   "outputs": [
    {
     "data": {
      "text/plain": [
       "{'genres': ['acoustic',\n",
       "  'afrobeat',\n",
       "  'alt-rock',\n",
       "  'alternative',\n",
       "  'ambient',\n",
       "  'anime',\n",
       "  'black-metal',\n",
       "  'bluegrass',\n",
       "  'blues',\n",
       "  'bossanova',\n",
       "  'brazil',\n",
       "  'breakbeat',\n",
       "  'british',\n",
       "  'cantopop',\n",
       "  'chicago-house',\n",
       "  'children',\n",
       "  'chill',\n",
       "  'classical',\n",
       "  'club',\n",
       "  'comedy',\n",
       "  'country',\n",
       "  'dance',\n",
       "  'dancehall',\n",
       "  'death-metal',\n",
       "  'deep-house',\n",
       "  'detroit-techno',\n",
       "  'disco',\n",
       "  'disney',\n",
       "  'drum-and-bass',\n",
       "  'dub',\n",
       "  'dubstep',\n",
       "  'edm',\n",
       "  'electro',\n",
       "  'electronic',\n",
       "  'emo',\n",
       "  'folk',\n",
       "  'forro',\n",
       "  'french',\n",
       "  'funk',\n",
       "  'garage',\n",
       "  'german',\n",
       "  'gospel',\n",
       "  'goth',\n",
       "  'grindcore',\n",
       "  'groove',\n",
       "  'grunge',\n",
       "  'guitar',\n",
       "  'happy',\n",
       "  'hard-rock',\n",
       "  'hardcore',\n",
       "  'hardstyle',\n",
       "  'heavy-metal',\n",
       "  'hip-hop',\n",
       "  'holidays',\n",
       "  'honky-tonk',\n",
       "  'house',\n",
       "  'idm',\n",
       "  'indian',\n",
       "  'indie',\n",
       "  'indie-pop',\n",
       "  'industrial',\n",
       "  'iranian',\n",
       "  'j-dance',\n",
       "  'j-idol',\n",
       "  'j-pop',\n",
       "  'j-rock',\n",
       "  'jazz',\n",
       "  'k-pop',\n",
       "  'kids',\n",
       "  'latin',\n",
       "  'latino',\n",
       "  'malay',\n",
       "  'mandopop',\n",
       "  'metal',\n",
       "  'metal-misc',\n",
       "  'metalcore',\n",
       "  'minimal-techno',\n",
       "  'movies',\n",
       "  'mpb',\n",
       "  'new-age',\n",
       "  'new-release',\n",
       "  'opera',\n",
       "  'pagode',\n",
       "  'party',\n",
       "  'philippines-opm',\n",
       "  'piano',\n",
       "  'pop',\n",
       "  'pop-film',\n",
       "  'post-dubstep',\n",
       "  'power-pop',\n",
       "  'progressive-house',\n",
       "  'psych-rock',\n",
       "  'punk',\n",
       "  'punk-rock',\n",
       "  'r-n-b',\n",
       "  'rainy-day',\n",
       "  'reggae',\n",
       "  'reggaeton',\n",
       "  'road-trip',\n",
       "  'rock',\n",
       "  'rock-n-roll',\n",
       "  'rockabilly',\n",
       "  'romance',\n",
       "  'sad',\n",
       "  'salsa',\n",
       "  'samba',\n",
       "  'sertanejo',\n",
       "  'show-tunes',\n",
       "  'singer-songwriter',\n",
       "  'ska',\n",
       "  'sleep',\n",
       "  'songwriter',\n",
       "  'soul',\n",
       "  'soundtracks',\n",
       "  'spanish',\n",
       "  'study',\n",
       "  'summer',\n",
       "  'swedish',\n",
       "  'synth-pop',\n",
       "  'tango',\n",
       "  'techno',\n",
       "  'trance',\n",
       "  'trip-hop',\n",
       "  'turkish',\n",
       "  'work-out',\n",
       "  'world-music']}"
      ]
     },
     "execution_count": 7,
     "metadata": {},
     "output_type": "execute_result"
    }
   ],
   "source": [
    "spotify.recommendation_genre_seeds()"
   ]
  },
  {
   "cell_type": "code",
   "execution_count": null,
   "metadata": {},
   "outputs": [],
   "source": []
  }
 ],
 "metadata": {
  "kernelspec": {
   "display_name": "Python 3",
   "language": "python",
   "name": "python3"
  },
  "language_info": {
   "codemirror_mode": {
    "name": "ipython",
    "version": 3
   },
   "file_extension": ".py",
   "mimetype": "text/x-python",
   "name": "python",
   "nbconvert_exporter": "python",
   "pygments_lexer": "ipython3",
   "version": "3.8.5"
  },
  "toc": {
   "base_numbering": 1,
   "nav_menu": {},
   "number_sections": true,
   "sideBar": true,
   "skip_h1_title": false,
   "title_cell": "Table of Contents",
   "title_sidebar": "Contents",
   "toc_cell": false,
   "toc_position": {},
   "toc_section_display": true,
   "toc_window_display": false
  }
 },
 "nbformat": 4,
 "nbformat_minor": 4
}
