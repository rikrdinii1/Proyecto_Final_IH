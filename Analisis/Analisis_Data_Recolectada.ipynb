{
 "cells": [
  {
   "cell_type": "code",
   "execution_count": 7,
   "metadata": {
    "ExecuteTime": {
     "end_time": "2021-03-24T05:54:03.015597Z",
     "start_time": "2021-03-24T05:54:02.990590Z"
    }
   },
   "outputs": [],
   "source": [
    "import pandas as pd\n",
    "import json\n",
    "import matplotlib.pyplot as plt\n",
    "import seaborn as sns\n",
    "\n",
    "\n"
   ]
  },
  {
   "cell_type": "markdown",
   "metadata": {
    "ExecuteTime": {
     "end_time": "2021-03-24T06:07:39.149013Z",
     "start_time": "2021-03-24T06:07:39.143010Z"
    },
    "heading_collapsed": true
   },
   "source": [
    "# Acceso a la Data Recolectada y su Transformacion"
   ]
  },
  {
   "cell_type": "code",
   "execution_count": 26,
   "metadata": {
    "ExecuteTime": {
     "end_time": "2021-03-24T06:11:02.028257Z",
     "start_time": "2021-03-24T06:11:02.017259Z"
    },
    "hidden": true
   },
   "outputs": [],
   "source": [
    "# Primero Accesamos a la data recolectada\n",
    "with open('DataRecolectada - 1.json') as f:\n",
    "    data_original = json.load(f)"
   ]
  },
  {
   "cell_type": "code",
   "execution_count": 27,
   "metadata": {
    "ExecuteTime": {
     "end_time": "2021-03-24T06:11:02.516361Z",
     "start_time": "2021-03-24T06:11:02.493354Z"
    },
    "hidden": true
   },
   "outputs": [],
   "source": [
    "# Generamos los nombres de las columnas del DF\n",
    "columnas = ['Nombre','Sexo','Edo_Laboral','Edo_Civil','Edad','Diag_Previo','Tristeza','Pesimismo','Fracaso','Perdida_de_Placer',\\\n",
    "'Sentimientos_de_Culpa','Sentimientos_de_Castigo','Disconformidad_con_uno_mismo','Autocritica',\\\n",
    "'Pensamientos_o_Deseos_Suicidas','Llanto','Agitación','Perdida_de_Interés','Indecisión','Desvalorización','Perdida_de_Energía',\\\n",
    "'Cambios_en_los_Hábitos_de_Sueño','Irritabilidad','Cambios_en_el_Apetito','Dificultad_de_Concentración',\\\n",
    "'Cansancio_o_Fatiga','Perdida_de_Interés_en_el_Sexo', 'Respuesta_Recibida']"
   ]
  },
  {
   "cell_type": "code",
   "execution_count": 28,
   "metadata": {
    "ExecuteTime": {
     "end_time": "2021-03-24T06:11:03.204190Z",
     "start_time": "2021-03-24T06:11:03.128169Z"
    },
    "hidden": true
   },
   "outputs": [
    {
     "data": {
      "text/html": [
       "<div>\n",
       "<style scoped>\n",
       "    .dataframe tbody tr th:only-of-type {\n",
       "        vertical-align: middle;\n",
       "    }\n",
       "\n",
       "    .dataframe tbody tr th {\n",
       "        vertical-align: top;\n",
       "    }\n",
       "\n",
       "    .dataframe thead th {\n",
       "        text-align: right;\n",
       "    }\n",
       "</style>\n",
       "<table border=\"1\" class=\"dataframe\">\n",
       "  <thead>\n",
       "    <tr style=\"text-align: right;\">\n",
       "      <th></th>\n",
       "      <th>Nombre</th>\n",
       "      <th>Sexo</th>\n",
       "      <th>Edo_Laboral</th>\n",
       "      <th>Edo_Civil</th>\n",
       "      <th>Edad</th>\n",
       "      <th>Diag_Previo</th>\n",
       "      <th>Tristeza</th>\n",
       "      <th>Pesimismo</th>\n",
       "      <th>Fracaso</th>\n",
       "      <th>Perdida_de_Placer</th>\n",
       "      <th>...</th>\n",
       "      <th>Indecisión</th>\n",
       "      <th>Desvalorización</th>\n",
       "      <th>Perdida_de_Energía</th>\n",
       "      <th>Cambios_en_los_Hábitos_de_Sueño</th>\n",
       "      <th>Irritabilidad</th>\n",
       "      <th>Cambios_en_el_Apetito</th>\n",
       "      <th>Dificultad_de_Concentración</th>\n",
       "      <th>Cansancio_o_Fatiga</th>\n",
       "      <th>Perdida_de_Interés_en_el_Sexo</th>\n",
       "      <th>Respuesta_Recibida</th>\n",
       "    </tr>\n",
       "  </thead>\n",
       "  <tbody>\n",
       "    <tr>\n",
       "      <th>1531026146</th>\n",
       "      <td>Ricardo</td>\n",
       "      <td>Hombre</td>\n",
       "      <td>Desempleado no Buscando</td>\n",
       "      <td>Casado</td>\n",
       "      <td>28</td>\n",
       "      <td>NO</td>\n",
       "      <td>D</td>\n",
       "      <td>D</td>\n",
       "      <td>D</td>\n",
       "      <td>D</td>\n",
       "      <td>...</td>\n",
       "      <td>D</td>\n",
       "      <td>D</td>\n",
       "      <td>C</td>\n",
       "      <td>G</td>\n",
       "      <td>D</td>\n",
       "      <td>G</td>\n",
       "      <td>D</td>\n",
       "      <td>D</td>\n",
       "      <td>D</td>\n",
       "      <td>Khhd</td>\n",
       "    </tr>\n",
       "    <tr>\n",
       "      <th>601887628</th>\n",
       "      <td>Reynaldo</td>\n",
       "      <td>Hombre</td>\n",
       "      <td>Empleado</td>\n",
       "      <td>Union Libre</td>\n",
       "      <td>25</td>\n",
       "      <td>SI</td>\n",
       "      <td>A</td>\n",
       "      <td>A</td>\n",
       "      <td>A</td>\n",
       "      <td>A</td>\n",
       "      <td>...</td>\n",
       "      <td>A</td>\n",
       "      <td>A</td>\n",
       "      <td>A</td>\n",
       "      <td>A</td>\n",
       "      <td>A</td>\n",
       "      <td>A</td>\n",
       "      <td>A</td>\n",
       "      <td>A</td>\n",
       "      <td>A</td>\n",
       "      <td>Ooi</td>\n",
       "    </tr>\n",
       "    <tr>\n",
       "      <th>1437527766</th>\n",
       "      <td>Carlos</td>\n",
       "      <td>Hombre</td>\n",
       "      <td>Empleado</td>\n",
       "      <td>Soltero</td>\n",
       "      <td>25</td>\n",
       "      <td>NO</td>\n",
       "      <td>A</td>\n",
       "      <td>A</td>\n",
       "      <td>A</td>\n",
       "      <td>B</td>\n",
       "      <td>...</td>\n",
       "      <td>A</td>\n",
       "      <td>A</td>\n",
       "      <td>B</td>\n",
       "      <td>C</td>\n",
       "      <td>B</td>\n",
       "      <td>G</td>\n",
       "      <td>B</td>\n",
       "      <td>A</td>\n",
       "      <td>B</td>\n",
       "      <td>Normal</td>\n",
       "    </tr>\n",
       "    <tr>\n",
       "      <th>33942341</th>\n",
       "      <td>Guillermo Arturo</td>\n",
       "      <td>Hombre</td>\n",
       "      <td>Empleado</td>\n",
       "      <td>Union Libre</td>\n",
       "      <td>35</td>\n",
       "      <td>NO</td>\n",
       "      <td>A</td>\n",
       "      <td>A</td>\n",
       "      <td>A</td>\n",
       "      <td>B</td>\n",
       "      <td>...</td>\n",
       "      <td>A</td>\n",
       "      <td>A</td>\n",
       "      <td>A</td>\n",
       "      <td>A</td>\n",
       "      <td>A</td>\n",
       "      <td>A</td>\n",
       "      <td>A</td>\n",
       "      <td>A</td>\n",
       "      <td>A</td>\n",
       "      <td>Animo</td>\n",
       "    </tr>\n",
       "    <tr>\n",
       "      <th>1772055088</th>\n",
       "      <td>Asairi</td>\n",
       "      <td>Hombre</td>\n",
       "      <td>Empleado</td>\n",
       "      <td>Casado</td>\n",
       "      <td>36</td>\n",
       "      <td>NO</td>\n",
       "      <td>A</td>\n",
       "      <td>A</td>\n",
       "      <td>C</td>\n",
       "      <td>A</td>\n",
       "      <td>...</td>\n",
       "      <td>A</td>\n",
       "      <td>A</td>\n",
       "      <td>A</td>\n",
       "      <td>A</td>\n",
       "      <td>A</td>\n",
       "      <td>A</td>\n",
       "      <td>A</td>\n",
       "      <td>A</td>\n",
       "      <td>A</td>\n",
       "      <td>Ánimo,  tú puedes</td>\n",
       "    </tr>\n",
       "  </tbody>\n",
       "</table>\n",
       "<p>5 rows × 28 columns</p>\n",
       "</div>"
      ],
      "text/plain": [
       "                      Nombre    Sexo              Edo_Laboral    Edo_Civil  \\\n",
       "1531026146           Ricardo  Hombre  Desempleado no Buscando       Casado   \n",
       "601887628           Reynaldo  Hombre                 Empleado  Union Libre   \n",
       "1437527766            Carlos  Hombre                 Empleado      Soltero   \n",
       "33942341    Guillermo Arturo  Hombre                 Empleado  Union Libre   \n",
       "1772055088            Asairi  Hombre                 Empleado       Casado   \n",
       "\n",
       "           Edad Diag_Previo Tristeza Pesimismo Fracaso Perdida_de_Placer  ...  \\\n",
       "1531026146   28          NO        D         D       D                 D  ...   \n",
       "601887628    25          SI        A         A       A                 A  ...   \n",
       "1437527766   25          NO        A         A       A                 B  ...   \n",
       "33942341     35          NO        A         A       A                 B  ...   \n",
       "1772055088   36          NO        A         A       C                 A  ...   \n",
       "\n",
       "           Indecisión Desvalorización Perdida_de_Energía  \\\n",
       "1531026146          D               D                  C   \n",
       "601887628           A               A                  A   \n",
       "1437527766          A               A                  B   \n",
       "33942341            A               A                  A   \n",
       "1772055088          A               A                  A   \n",
       "\n",
       "           Cambios_en_los_Hábitos_de_Sueño Irritabilidad  \\\n",
       "1531026146                               G             D   \n",
       "601887628                                A             A   \n",
       "1437527766                               C             B   \n",
       "33942341                                 A             A   \n",
       "1772055088                               A             A   \n",
       "\n",
       "           Cambios_en_el_Apetito Dificultad_de_Concentración  \\\n",
       "1531026146                     G                           D   \n",
       "601887628                      A                           A   \n",
       "1437527766                     G                           B   \n",
       "33942341                       A                           A   \n",
       "1772055088                     A                           A   \n",
       "\n",
       "           Cansancio_o_Fatiga Perdida_de_Interés_en_el_Sexo Respuesta_Recibida  \n",
       "1531026146                  D                             D               Khhd  \n",
       "601887628                   A                             A                Ooi  \n",
       "1437527766                  A                             B             Normal  \n",
       "33942341                    A                             A              Animo  \n",
       "1772055088                  A                             A  Ánimo,  tú puedes  \n",
       "\n",
       "[5 rows x 28 columns]"
      ]
     },
     "execution_count": 28,
     "metadata": {},
     "output_type": "execute_result"
    }
   ],
   "source": [
    "# Generamos el DF\n",
    "df = pd.DataFrame.from_dict(data_original,orient='index',columns=columnas)\n",
    "df.head()"
   ]
  },
  {
   "cell_type": "code",
   "execution_count": 81,
   "metadata": {
    "ExecuteTime": {
     "end_time": "2021-03-24T06:26:13.396342Z",
     "start_time": "2021-03-24T06:26:13.382343Z"
    },
    "hidden": true
   },
   "outputs": [],
   "source": [
    "# Como debemos de obtener las calificaciones por cada usuario, convertimos las respuestas obtenidas a numeros\n",
    "# las sumamos y obtenemos la calificacion final.\n",
    "\n",
    "def Valores_Respuestas_Usuario(respuestas_usuario):    \n",
    "    valor_respuestas_numerico = []\n",
    "    \n",
    "    f = open('CuestionarioBeck.json','r')\n",
    "    content = f.read()\n",
    "    cuestionario = json.loads(content)\n",
    "\n",
    "    for i in range(len(respuestas_usuario)):\n",
    "        resp_user = respuestas_usuario[i]\n",
    "        tema = cuestionario['Temas'][i]['Tema']\n",
    "        data = cuestionario['Temas'][i]['Data']\n",
    "        for x in range(len(data)):\n",
    "            resp = data[x]['Inciso']\n",
    "            valor = data[x]['Valor']\n",
    "            if resp_user == resp:\n",
    "                valor_respuestas_numerico.append(valor)\n",
    "    \n",
    "    return sum(valor_respuestas_numerico)"
   ]
  },
  {
   "cell_type": "code",
   "execution_count": 94,
   "metadata": {
    "ExecuteTime": {
     "end_time": "2021-03-24T06:36:35.926287Z",
     "start_time": "2021-03-24T06:36:35.859273Z"
    },
    "hidden": true
   },
   "outputs": [],
   "source": [
    "# Generamos un nuevo diccionario con la data transformada\n",
    "data_valor = dict()\n",
    "\n",
    "for i in data:\n",
    "    try: \n",
    "        respuestas = data[i][6:-1]\n",
    "        valores = Valores_Respuestas_Usuario(respuestas)\n",
    "        data_valor.update({i:valores})\n",
    "    except:\n",
    "        data_valor.update({i:'null'})"
   ]
  },
  {
   "cell_type": "code",
   "execution_count": 96,
   "metadata": {
    "ExecuteTime": {
     "end_time": "2021-03-24T06:36:48.433716Z",
     "start_time": "2021-03-24T06:36:48.406708Z"
    },
    "hidden": true
   },
   "outputs": [
    {
     "data": {
      "text/html": [
       "<div>\n",
       "<style scoped>\n",
       "    .dataframe tbody tr th:only-of-type {\n",
       "        vertical-align: middle;\n",
       "    }\n",
       "\n",
       "    .dataframe tbody tr th {\n",
       "        vertical-align: top;\n",
       "    }\n",
       "\n",
       "    .dataframe thead th {\n",
       "        text-align: right;\n",
       "    }\n",
       "</style>\n",
       "<table border=\"1\" class=\"dataframe\">\n",
       "  <thead>\n",
       "    <tr style=\"text-align: right;\">\n",
       "      <th></th>\n",
       "      <th>0</th>\n",
       "    </tr>\n",
       "  </thead>\n",
       "  <tbody>\n",
       "    <tr>\n",
       "      <th>1531026146</th>\n",
       "      <td>59</td>\n",
       "    </tr>\n",
       "    <tr>\n",
       "      <th>601887628</th>\n",
       "      <td>0</td>\n",
       "    </tr>\n",
       "    <tr>\n",
       "      <th>1437527766</th>\n",
       "      <td>12</td>\n",
       "    </tr>\n",
       "    <tr>\n",
       "      <th>33942341</th>\n",
       "      <td>1</td>\n",
       "    </tr>\n",
       "    <tr>\n",
       "      <th>1772055088</th>\n",
       "      <td>3</td>\n",
       "    </tr>\n",
       "  </tbody>\n",
       "</table>\n",
       "</div>"
      ],
      "text/plain": [
       "             0\n",
       "1531026146  59\n",
       "601887628    0\n",
       "1437527766  12\n",
       "33942341     1\n",
       "1772055088   3"
      ]
     },
     "execution_count": 96,
     "metadata": {},
     "output_type": "execute_result"
    }
   ],
   "source": [
    "# Lo convertimos en un DF\n",
    "data_valor = pd.DataFrame.from_dict(data_valor,orient='index')\n",
    "data_valor.head()"
   ]
  },
  {
   "cell_type": "code",
   "execution_count": 98,
   "metadata": {
    "ExecuteTime": {
     "end_time": "2021-03-24T06:37:59.228252Z",
     "start_time": "2021-03-24T06:37:59.215269Z"
    },
    "hidden": true
   },
   "outputs": [
    {
     "data": {
      "text/plain": [
       "(47, 1)"
      ]
     },
     "execution_count": 98,
     "metadata": {},
     "output_type": "execute_result"
    }
   ],
   "source": [
    "data_valor.shape"
   ]
  },
  {
   "cell_type": "code",
   "execution_count": 99,
   "metadata": {
    "ExecuteTime": {
     "end_time": "2021-03-24T06:38:14.038121Z",
     "start_time": "2021-03-24T06:38:14.022107Z"
    },
    "hidden": true
   },
   "outputs": [
    {
     "data": {
      "text/plain": [
       "(47, 28)"
      ]
     },
     "execution_count": 99,
     "metadata": {},
     "output_type": "execute_result"
    }
   ],
   "source": [
    "df.shape"
   ]
  },
  {
   "cell_type": "code",
   "execution_count": 111,
   "metadata": {
    "ExecuteTime": {
     "end_time": "2021-03-24T06:48:29.360786Z",
     "start_time": "2021-03-24T06:48:29.342794Z"
    },
    "hidden": true
   },
   "outputs": [],
   "source": [
    "# En ambos DF tenemos el mismo numero de registros, por lo que podemos unirlos. \n",
    "data = pd.concat([df,data_valor],axis=1)\n",
    "data.drop('Nombre',axis=1,inplace=True)\n",
    "data.rename(columns={0:'Calificacion_Final'},inplace=True)"
   ]
  },
  {
   "cell_type": "code",
   "execution_count": 114,
   "metadata": {
    "ExecuteTime": {
     "end_time": "2021-03-24T06:49:24.312883Z",
     "start_time": "2021-03-24T06:49:24.235868Z"
    },
    "hidden": true
   },
   "outputs": [
    {
     "data": {
      "text/html": [
       "<div>\n",
       "<style scoped>\n",
       "    .dataframe tbody tr th:only-of-type {\n",
       "        vertical-align: middle;\n",
       "    }\n",
       "\n",
       "    .dataframe tbody tr th {\n",
       "        vertical-align: top;\n",
       "    }\n",
       "\n",
       "    .dataframe thead th {\n",
       "        text-align: right;\n",
       "    }\n",
       "</style>\n",
       "<table border=\"1\" class=\"dataframe\">\n",
       "  <thead>\n",
       "    <tr style=\"text-align: right;\">\n",
       "      <th></th>\n",
       "      <th>Sexo</th>\n",
       "      <th>Edo_Laboral</th>\n",
       "      <th>Edo_Civil</th>\n",
       "      <th>Edad</th>\n",
       "      <th>Diag_Previo</th>\n",
       "      <th>Tristeza</th>\n",
       "      <th>Pesimismo</th>\n",
       "      <th>Fracaso</th>\n",
       "      <th>Perdida_de_Placer</th>\n",
       "      <th>Sentimientos_de_Culpa</th>\n",
       "      <th>...</th>\n",
       "      <th>Desvalorización</th>\n",
       "      <th>Perdida_de_Energía</th>\n",
       "      <th>Cambios_en_los_Hábitos_de_Sueño</th>\n",
       "      <th>Irritabilidad</th>\n",
       "      <th>Cambios_en_el_Apetito</th>\n",
       "      <th>Dificultad_de_Concentración</th>\n",
       "      <th>Cansancio_o_Fatiga</th>\n",
       "      <th>Perdida_de_Interés_en_el_Sexo</th>\n",
       "      <th>Respuesta_Recibida</th>\n",
       "      <th>Calificacion_Final</th>\n",
       "    </tr>\n",
       "  </thead>\n",
       "  <tbody>\n",
       "    <tr>\n",
       "      <th>1531026146</th>\n",
       "      <td>Hombre</td>\n",
       "      <td>Desempleado no Buscando</td>\n",
       "      <td>Casado</td>\n",
       "      <td>28</td>\n",
       "      <td>NO</td>\n",
       "      <td>D</td>\n",
       "      <td>D</td>\n",
       "      <td>D</td>\n",
       "      <td>D</td>\n",
       "      <td>D</td>\n",
       "      <td>...</td>\n",
       "      <td>D</td>\n",
       "      <td>C</td>\n",
       "      <td>G</td>\n",
       "      <td>D</td>\n",
       "      <td>G</td>\n",
       "      <td>D</td>\n",
       "      <td>D</td>\n",
       "      <td>D</td>\n",
       "      <td>Khhd</td>\n",
       "      <td>59</td>\n",
       "    </tr>\n",
       "    <tr>\n",
       "      <th>601887628</th>\n",
       "      <td>Hombre</td>\n",
       "      <td>Empleado</td>\n",
       "      <td>Union Libre</td>\n",
       "      <td>25</td>\n",
       "      <td>SI</td>\n",
       "      <td>A</td>\n",
       "      <td>A</td>\n",
       "      <td>A</td>\n",
       "      <td>A</td>\n",
       "      <td>A</td>\n",
       "      <td>...</td>\n",
       "      <td>A</td>\n",
       "      <td>A</td>\n",
       "      <td>A</td>\n",
       "      <td>A</td>\n",
       "      <td>A</td>\n",
       "      <td>A</td>\n",
       "      <td>A</td>\n",
       "      <td>A</td>\n",
       "      <td>Ooi</td>\n",
       "      <td>0</td>\n",
       "    </tr>\n",
       "    <tr>\n",
       "      <th>1437527766</th>\n",
       "      <td>Hombre</td>\n",
       "      <td>Empleado</td>\n",
       "      <td>Soltero</td>\n",
       "      <td>25</td>\n",
       "      <td>NO</td>\n",
       "      <td>A</td>\n",
       "      <td>A</td>\n",
       "      <td>A</td>\n",
       "      <td>B</td>\n",
       "      <td>A</td>\n",
       "      <td>...</td>\n",
       "      <td>A</td>\n",
       "      <td>B</td>\n",
       "      <td>C</td>\n",
       "      <td>B</td>\n",
       "      <td>G</td>\n",
       "      <td>B</td>\n",
       "      <td>A</td>\n",
       "      <td>B</td>\n",
       "      <td>Normal</td>\n",
       "      <td>12</td>\n",
       "    </tr>\n",
       "    <tr>\n",
       "      <th>33942341</th>\n",
       "      <td>Hombre</td>\n",
       "      <td>Empleado</td>\n",
       "      <td>Union Libre</td>\n",
       "      <td>35</td>\n",
       "      <td>NO</td>\n",
       "      <td>A</td>\n",
       "      <td>A</td>\n",
       "      <td>A</td>\n",
       "      <td>B</td>\n",
       "      <td>A</td>\n",
       "      <td>...</td>\n",
       "      <td>A</td>\n",
       "      <td>A</td>\n",
       "      <td>A</td>\n",
       "      <td>A</td>\n",
       "      <td>A</td>\n",
       "      <td>A</td>\n",
       "      <td>A</td>\n",
       "      <td>A</td>\n",
       "      <td>Animo</td>\n",
       "      <td>1</td>\n",
       "    </tr>\n",
       "    <tr>\n",
       "      <th>1772055088</th>\n",
       "      <td>Hombre</td>\n",
       "      <td>Empleado</td>\n",
       "      <td>Casado</td>\n",
       "      <td>36</td>\n",
       "      <td>NO</td>\n",
       "      <td>A</td>\n",
       "      <td>A</td>\n",
       "      <td>C</td>\n",
       "      <td>A</td>\n",
       "      <td>A</td>\n",
       "      <td>...</td>\n",
       "      <td>A</td>\n",
       "      <td>A</td>\n",
       "      <td>A</td>\n",
       "      <td>A</td>\n",
       "      <td>A</td>\n",
       "      <td>A</td>\n",
       "      <td>A</td>\n",
       "      <td>A</td>\n",
       "      <td>Ánimo,  tú puedes</td>\n",
       "      <td>3</td>\n",
       "    </tr>\n",
       "  </tbody>\n",
       "</table>\n",
       "<p>5 rows × 28 columns</p>\n",
       "</div>"
      ],
      "text/plain": [
       "              Sexo              Edo_Laboral    Edo_Civil Edad Diag_Previo  \\\n",
       "1531026146  Hombre  Desempleado no Buscando       Casado   28          NO   \n",
       "601887628   Hombre                 Empleado  Union Libre   25          SI   \n",
       "1437527766  Hombre                 Empleado      Soltero   25          NO   \n",
       "33942341    Hombre                 Empleado  Union Libre   35          NO   \n",
       "1772055088  Hombre                 Empleado       Casado   36          NO   \n",
       "\n",
       "           Tristeza Pesimismo Fracaso Perdida_de_Placer Sentimientos_de_Culpa  \\\n",
       "1531026146        D         D       D                 D                     D   \n",
       "601887628         A         A       A                 A                     A   \n",
       "1437527766        A         A       A                 B                     A   \n",
       "33942341          A         A       A                 B                     A   \n",
       "1772055088        A         A       C                 A                     A   \n",
       "\n",
       "            ... Desvalorización Perdida_de_Energía  \\\n",
       "1531026146  ...               D                  C   \n",
       "601887628   ...               A                  A   \n",
       "1437527766  ...               A                  B   \n",
       "33942341    ...               A                  A   \n",
       "1772055088  ...               A                  A   \n",
       "\n",
       "           Cambios_en_los_Hábitos_de_Sueño Irritabilidad  \\\n",
       "1531026146                               G             D   \n",
       "601887628                                A             A   \n",
       "1437527766                               C             B   \n",
       "33942341                                 A             A   \n",
       "1772055088                               A             A   \n",
       "\n",
       "           Cambios_en_el_Apetito Dificultad_de_Concentración  \\\n",
       "1531026146                     G                           D   \n",
       "601887628                      A                           A   \n",
       "1437527766                     G                           B   \n",
       "33942341                       A                           A   \n",
       "1772055088                     A                           A   \n",
       "\n",
       "           Cansancio_o_Fatiga Perdida_de_Interés_en_el_Sexo  \\\n",
       "1531026146                  D                             D   \n",
       "601887628                   A                             A   \n",
       "1437527766                  A                             B   \n",
       "33942341                    A                             A   \n",
       "1772055088                  A                             A   \n",
       "\n",
       "           Respuesta_Recibida Calificacion_Final  \n",
       "1531026146               Khhd                 59  \n",
       "601887628                 Ooi                  0  \n",
       "1437527766             Normal                 12  \n",
       "33942341                Animo                  1  \n",
       "1772055088  Ánimo,  tú puedes                  3  \n",
       "\n",
       "[5 rows x 28 columns]"
      ]
     },
     "execution_count": 114,
     "metadata": {},
     "output_type": "execute_result"
    }
   ],
   "source": [
    "# Obtenemos la data final, sin nombres y ya con la calificacion final de cada usuario\n",
    "data.head()"
   ]
  },
  {
   "cell_type": "markdown",
   "metadata": {},
   "source": [
    "# Analisis de la Data"
   ]
  },
  {
   "cell_type": "code",
   "execution_count": 122,
   "metadata": {
    "ExecuteTime": {
     "end_time": "2021-03-24T06:55:46.732279Z",
     "start_time": "2021-03-24T06:55:46.718278Z"
    }
   },
   "outputs": [
    {
     "data": {
      "text/plain": [
       "45"
      ]
     },
     "execution_count": 122,
     "metadata": {},
     "output_type": "execute_result"
    }
   ],
   "source": [
    "# Vamos a inciar analizando las respuestas recibidas por los usuarios cuando comentan a familiares o amigos que se\n",
    "# sienten tristes o tienen depresion (o sespecha de)\n",
    "\n",
    "respuestas_recibidas = data.Respuesta_Recibida\n",
    "\n",
    "# Primero eliminamos los nulos\n",
    "respuestas_recibidas = respuestas_recibidas.dropna()\n"
   ]
  },
  {
   "cell_type": "code",
   "execution_count": null,
   "metadata": {},
   "outputs": [],
   "source": []
  }
 ],
 "metadata": {
  "kernelspec": {
   "display_name": "Python 3",
   "language": "python",
   "name": "python3"
  },
  "language_info": {
   "codemirror_mode": {
    "name": "ipython",
    "version": 3
   },
   "file_extension": ".py",
   "mimetype": "text/x-python",
   "name": "python",
   "nbconvert_exporter": "python",
   "pygments_lexer": "ipython3",
   "version": "3.8.5"
  },
  "toc": {
   "base_numbering": 1,
   "nav_menu": {},
   "number_sections": true,
   "sideBar": true,
   "skip_h1_title": false,
   "title_cell": "Table of Contents",
   "title_sidebar": "Contents",
   "toc_cell": false,
   "toc_position": {},
   "toc_section_display": true,
   "toc_window_display": false
  }
 },
 "nbformat": 4,
 "nbformat_minor": 4
}
